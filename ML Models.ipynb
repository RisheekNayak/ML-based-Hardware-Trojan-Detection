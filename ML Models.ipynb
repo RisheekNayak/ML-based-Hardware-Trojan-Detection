{
  "nbformat": 4,
  "nbformat_minor": 0,
  "metadata": {
    "colab": {
      "name": "Design_credit.ipynb",
      "provenance": [],
      "collapsed_sections": []
    },
    "kernelspec": {
      "name": "python3",
      "display_name": "Python 3"
    },
    "language_info": {
      "name": "python"
    }
  },
  "cells": [
    {
      "cell_type": "markdown",
      "source": [
        "# Data Preprocessing"
      ],
      "metadata": {
        "id": "JVT_SVgtuaMI"
      }
    },
    {
      "cell_type": "markdown",
      "source": [
        "## Importing the libraries"
      ],
      "metadata": {
        "id": "z9PUdcmMbKgF"
      }
    },
    {
      "cell_type": "code",
      "execution_count": null,
      "metadata": {
        "id": "RY6pPabwTmSy"
      },
      "outputs": [],
      "source": [
        "import numpy as np\n",
        "import pandas as pd\n",
        "import matplotlib.pyplot as plt\n",
        "from sklearn.metrics import confusion_matrix, classification_report, roc_auc_score"
      ]
    },
    {
      "cell_type": "markdown",
      "source": [
        "## Importing the dataset"
      ],
      "metadata": {
        "id": "Z9alOzVqbEXC"
      }
    },
    {
      "cell_type": "code",
      "source": [
        "data_train = pd.read_csv('train.csv')\n",
        "X_train = data_train.iloc[:, 1:].values"
      ],
      "metadata": {
        "id": "2L3Z2_eQMEd4"
      },
      "execution_count": null,
      "outputs": []
    },
    {
      "cell_type": "code",
      "source": [
        "data_test = pd.read_csv('test.csv')\n",
        "X_test = data_test.iloc[:, 1:].values"
      ],
      "metadata": {
        "id": "X1el_7T1r9Ox"
      },
      "execution_count": null,
      "outputs": []
    },
    {
      "cell_type": "code",
      "source": [
        "print(X_train)"
      ],
      "metadata": {
        "colab": {
          "base_uri": "https://localhost:8080/"
        },
        "id": "Rvjh1DmbF6OP",
        "outputId": "e9cd2287-ff3a-4656-f021-6216fe18adf0"
      },
      "execution_count": null,
      "outputs": [
        {
          "output_type": "stream",
          "name": "stdout",
          "text": [
            "[['n673gat' 5695.0 5698.0 5707.0 5988.0 6005.0]\n",
            " ['n398gat' 4909.0 4911.0 4919.0 5071.0 5083.0]\n",
            " ['n402gat' 4982.0 4987.0 4997.0 5142.0 5153.0]\n",
            " ...\n",
            " ['n1462gat' 0.0 0.0 0.0 0.0 0.0]\n",
            " ['n1596gat' 0.0 0.0 0.0 0.0 0.0]\n",
            " ['n1588gat' 5001.0 5003.0 5009.0 5009.0 5012.0]]\n"
          ]
        }
      ]
    },
    {
      "cell_type": "markdown",
      "source": [
        "##Generating labels"
      ],
      "metadata": {
        "id": "XH-7A8e2Jjv7"
      }
    },
    {
      "cell_type": "code",
      "source": [
        "no_of_ff = 179 # As here we are using bench S5378"
      ],
      "metadata": {
        "id": "eoFoiSXVhjay"
      },
      "execution_count": null,
      "outputs": []
    },
    {
      "cell_type": "code",
      "source": [
        "print(X_train.shape)\n",
        "print(X_test.shape)"
      ],
      "metadata": {
        "colab": {
          "base_uri": "https://localhost:8080/"
        },
        "id": "qvUyeRd7F2GO",
        "outputId": "a85ee994-b33c-4b66-e71f-4ddfe92fcbce"
      },
      "execution_count": null,
      "outputs": [
        {
          "output_type": "stream",
          "name": "stdout",
          "text": [
            "(322200, 6)\n",
            "(107400, 6)\n"
          ]
        }
      ]
    },
    {
      "cell_type": "code",
      "source": [
        "# Actual labels\n",
        "y_train = [1 for i in range(1000)]\n",
        "for i in range(800):\n",
        "  y_train.append(0)\n",
        "y_test = [1 for i in range(400)]\n",
        "for i in range(200):\n",
        "  y_test.append(0)"
      ],
      "metadata": {
        "id": "QCx9185wJjRD"
      },
      "execution_count": null,
      "outputs": []
    },
    {
      "cell_type": "code",
      "source": [
        "# Expanded Labels\n",
        "y_train_expanded = [1 for i in range(1000 * no_of_ff)]\n",
        "for i in range(800 * no_of_ff):\n",
        "  y_train_expanded.append(0)\n",
        "y_test_expanded = [1 for i in range(400 * no_of_ff)]\n",
        "for i in range(200 * no_of_ff):\n",
        "  y_test_expanded.append(0)"
      ],
      "metadata": {
        "id": "dflStl3FLx-4"
      },
      "execution_count": null,
      "outputs": []
    },
    {
      "cell_type": "code",
      "source": [
        "y_train = np.array(y_train)\n",
        "y_test = np.array(y_test)\n",
        "y_train_expanded = np.array(y_train_expanded)\n",
        "y_test_expanded = np.array(y_test_expanded)"
      ],
      "metadata": {
        "id": "6IvL65sKMU7D"
      },
      "execution_count": null,
      "outputs": []
    },
    {
      "cell_type": "code",
      "source": [
        "print(y_train.shape, y_test.shape)\n",
        "print(y_train_expanded.shape, y_test_expanded.shape)"
      ],
      "metadata": {
        "colab": {
          "base_uri": "https://localhost:8080/"
        },
        "id": "_nPv9ttCMLd1",
        "outputId": "f11cfd20-e691-4347-8c3c-6d4f79da5fd6"
      },
      "execution_count": null,
      "outputs": [
        {
          "output_type": "stream",
          "name": "stdout",
          "text": [
            "(1800,) (600,)\n",
            "(322200,) (107400,)\n"
          ]
        }
      ]
    },
    {
      "cell_type": "markdown",
      "source": [
        "## Encoding features"
      ],
      "metadata": {
        "id": "VV-NiECxaWKv"
      }
    },
    {
      "cell_type": "code",
      "source": [
        "from sklearn.preprocessing import LabelEncoder\n",
        "le = LabelEncoder()\n",
        "X_train[:, 0] = le.fit_transform(X_train[:, 0]) \n",
        "X_test[:, 0] = le.transform(X_test[:, 0])"
      ],
      "metadata": {
        "id": "RA2c0AEmF8x6"
      },
      "execution_count": null,
      "outputs": []
    },
    {
      "cell_type": "code",
      "source": [
        "print(X_train)"
      ],
      "metadata": {
        "colab": {
          "base_uri": "https://localhost:8080/"
        },
        "id": "qiK0YQzOvQRZ",
        "outputId": "a21fef18-b66a-4d5c-fb68-9707511e8871"
      },
      "execution_count": null,
      "outputs": [
        {
          "output_type": "stream",
          "name": "stdout",
          "text": [
            "[[156 5695.0 5698.0 5707.0 5988.0 6005.0]\n",
            " [141 4909.0 4911.0 4919.0 5071.0 5083.0]\n",
            " [142 4982.0 4987.0 4997.0 5142.0 5153.0]\n",
            " ...\n",
            " [25 0.0 0.0 0.0 0.0 0.0]\n",
            " [33 0.0 0.0 0.0 0.0 0.0]\n",
            " [32 5001.0 5003.0 5009.0 5009.0 5012.0]]\n"
          ]
        }
      ]
    },
    {
      "cell_type": "markdown",
      "source": [
        "# Visualizing our dataset"
      ],
      "metadata": {
        "id": "ZmCWa1ghdWqt"
      }
    },
    {
      "cell_type": "code",
      "source": [
        "training_x= pd.DataFrame(X_train)\n",
        "training_y= pd.DataFrame(y_train_expanded,columns=['output'])"
      ],
      "metadata": {
        "id": "ubrrTwssdWZK"
      },
      "execution_count": null,
      "outputs": []
    },
    {
      "cell_type": "code",
      "source": [
        "training_x"
      ],
      "metadata": {
        "colab": {
          "base_uri": "https://localhost:8080/",
          "height": 424
        },
        "id": "U0gZZkucedwI",
        "outputId": "72550254-3000-4fe1-b365-2a69db939a1b"
      },
      "execution_count": null,
      "outputs": [
        {
          "output_type": "execute_result",
          "data": {
            "text/plain": [
              "          0       1        2        3        4        5\n",
              "0       156  5695.0   5698.0   5707.0   5988.0   6005.0\n",
              "1       141  4909.0   4911.0   4919.0   5071.0   5083.0\n",
              "2       142  4982.0   4987.0   4997.0   5142.0   5153.0\n",
              "3       176  4978.0   4980.0   4982.0   5146.0   5157.0\n",
              "4       172  5060.0   5063.0   5066.0   5226.0   5237.0\n",
              "...     ...     ...      ...      ...      ...      ...\n",
              "322195   24  9999.0  10001.0  10003.0  12002.0  22001.0\n",
              "322196   29  9375.0   9377.0   9379.0  11254.0  11284.0\n",
              "322197   25     0.0      0.0      0.0      0.0      0.0\n",
              "322198   33     0.0      0.0      0.0      0.0      0.0\n",
              "322199   32  5001.0   5003.0   5009.0   5009.0   5012.0\n",
              "\n",
              "[322200 rows x 6 columns]"
            ],
            "text/html": [
              "\n",
              "  <div id=\"df-a92da2c2-2cef-4622-909f-6a64235e3cfa\">\n",
              "    <div class=\"colab-df-container\">\n",
              "      <div>\n",
              "<style scoped>\n",
              "    .dataframe tbody tr th:only-of-type {\n",
              "        vertical-align: middle;\n",
              "    }\n",
              "\n",
              "    .dataframe tbody tr th {\n",
              "        vertical-align: top;\n",
              "    }\n",
              "\n",
              "    .dataframe thead th {\n",
              "        text-align: right;\n",
              "    }\n",
              "</style>\n",
              "<table border=\"1\" class=\"dataframe\">\n",
              "  <thead>\n",
              "    <tr style=\"text-align: right;\">\n",
              "      <th></th>\n",
              "      <th>0</th>\n",
              "      <th>1</th>\n",
              "      <th>2</th>\n",
              "      <th>3</th>\n",
              "      <th>4</th>\n",
              "      <th>5</th>\n",
              "    </tr>\n",
              "  </thead>\n",
              "  <tbody>\n",
              "    <tr>\n",
              "      <th>0</th>\n",
              "      <td>156</td>\n",
              "      <td>5695.0</td>\n",
              "      <td>5698.0</td>\n",
              "      <td>5707.0</td>\n",
              "      <td>5988.0</td>\n",
              "      <td>6005.0</td>\n",
              "    </tr>\n",
              "    <tr>\n",
              "      <th>1</th>\n",
              "      <td>141</td>\n",
              "      <td>4909.0</td>\n",
              "      <td>4911.0</td>\n",
              "      <td>4919.0</td>\n",
              "      <td>5071.0</td>\n",
              "      <td>5083.0</td>\n",
              "    </tr>\n",
              "    <tr>\n",
              "      <th>2</th>\n",
              "      <td>142</td>\n",
              "      <td>4982.0</td>\n",
              "      <td>4987.0</td>\n",
              "      <td>4997.0</td>\n",
              "      <td>5142.0</td>\n",
              "      <td>5153.0</td>\n",
              "    </tr>\n",
              "    <tr>\n",
              "      <th>3</th>\n",
              "      <td>176</td>\n",
              "      <td>4978.0</td>\n",
              "      <td>4980.0</td>\n",
              "      <td>4982.0</td>\n",
              "      <td>5146.0</td>\n",
              "      <td>5157.0</td>\n",
              "    </tr>\n",
              "    <tr>\n",
              "      <th>4</th>\n",
              "      <td>172</td>\n",
              "      <td>5060.0</td>\n",
              "      <td>5063.0</td>\n",
              "      <td>5066.0</td>\n",
              "      <td>5226.0</td>\n",
              "      <td>5237.0</td>\n",
              "    </tr>\n",
              "    <tr>\n",
              "      <th>...</th>\n",
              "      <td>...</td>\n",
              "      <td>...</td>\n",
              "      <td>...</td>\n",
              "      <td>...</td>\n",
              "      <td>...</td>\n",
              "      <td>...</td>\n",
              "    </tr>\n",
              "    <tr>\n",
              "      <th>322195</th>\n",
              "      <td>24</td>\n",
              "      <td>9999.0</td>\n",
              "      <td>10001.0</td>\n",
              "      <td>10003.0</td>\n",
              "      <td>12002.0</td>\n",
              "      <td>22001.0</td>\n",
              "    </tr>\n",
              "    <tr>\n",
              "      <th>322196</th>\n",
              "      <td>29</td>\n",
              "      <td>9375.0</td>\n",
              "      <td>9377.0</td>\n",
              "      <td>9379.0</td>\n",
              "      <td>11254.0</td>\n",
              "      <td>11284.0</td>\n",
              "    </tr>\n",
              "    <tr>\n",
              "      <th>322197</th>\n",
              "      <td>25</td>\n",
              "      <td>0.0</td>\n",
              "      <td>0.0</td>\n",
              "      <td>0.0</td>\n",
              "      <td>0.0</td>\n",
              "      <td>0.0</td>\n",
              "    </tr>\n",
              "    <tr>\n",
              "      <th>322198</th>\n",
              "      <td>33</td>\n",
              "      <td>0.0</td>\n",
              "      <td>0.0</td>\n",
              "      <td>0.0</td>\n",
              "      <td>0.0</td>\n",
              "      <td>0.0</td>\n",
              "    </tr>\n",
              "    <tr>\n",
              "      <th>322199</th>\n",
              "      <td>32</td>\n",
              "      <td>5001.0</td>\n",
              "      <td>5003.0</td>\n",
              "      <td>5009.0</td>\n",
              "      <td>5009.0</td>\n",
              "      <td>5012.0</td>\n",
              "    </tr>\n",
              "  </tbody>\n",
              "</table>\n",
              "<p>322200 rows × 6 columns</p>\n",
              "</div>\n",
              "      <button class=\"colab-df-convert\" onclick=\"convertToInteractive('df-a92da2c2-2cef-4622-909f-6a64235e3cfa')\"\n",
              "              title=\"Convert this dataframe to an interactive table.\"\n",
              "              style=\"display:none;\">\n",
              "        \n",
              "  <svg xmlns=\"http://www.w3.org/2000/svg\" height=\"24px\"viewBox=\"0 0 24 24\"\n",
              "       width=\"24px\">\n",
              "    <path d=\"M0 0h24v24H0V0z\" fill=\"none\"/>\n",
              "    <path d=\"M18.56 5.44l.94 2.06.94-2.06 2.06-.94-2.06-.94-.94-2.06-.94 2.06-2.06.94zm-11 1L8.5 8.5l.94-2.06 2.06-.94-2.06-.94L8.5 2.5l-.94 2.06-2.06.94zm10 10l.94 2.06.94-2.06 2.06-.94-2.06-.94-.94-2.06-.94 2.06-2.06.94z\"/><path d=\"M17.41 7.96l-1.37-1.37c-.4-.4-.92-.59-1.43-.59-.52 0-1.04.2-1.43.59L10.3 9.45l-7.72 7.72c-.78.78-.78 2.05 0 2.83L4 21.41c.39.39.9.59 1.41.59.51 0 1.02-.2 1.41-.59l7.78-7.78 2.81-2.81c.8-.78.8-2.07 0-2.86zM5.41 20L4 18.59l7.72-7.72 1.47 1.35L5.41 20z\"/>\n",
              "  </svg>\n",
              "      </button>\n",
              "      \n",
              "  <style>\n",
              "    .colab-df-container {\n",
              "      display:flex;\n",
              "      flex-wrap:wrap;\n",
              "      gap: 12px;\n",
              "    }\n",
              "\n",
              "    .colab-df-convert {\n",
              "      background-color: #E8F0FE;\n",
              "      border: none;\n",
              "      border-radius: 50%;\n",
              "      cursor: pointer;\n",
              "      display: none;\n",
              "      fill: #1967D2;\n",
              "      height: 32px;\n",
              "      padding: 0 0 0 0;\n",
              "      width: 32px;\n",
              "    }\n",
              "\n",
              "    .colab-df-convert:hover {\n",
              "      background-color: #E2EBFA;\n",
              "      box-shadow: 0px 1px 2px rgba(60, 64, 67, 0.3), 0px 1px 3px 1px rgba(60, 64, 67, 0.15);\n",
              "      fill: #174EA6;\n",
              "    }\n",
              "\n",
              "    [theme=dark] .colab-df-convert {\n",
              "      background-color: #3B4455;\n",
              "      fill: #D2E3FC;\n",
              "    }\n",
              "\n",
              "    [theme=dark] .colab-df-convert:hover {\n",
              "      background-color: #434B5C;\n",
              "      box-shadow: 0px 1px 3px 1px rgba(0, 0, 0, 0.15);\n",
              "      filter: drop-shadow(0px 1px 2px rgba(0, 0, 0, 0.3));\n",
              "      fill: #FFFFFF;\n",
              "    }\n",
              "  </style>\n",
              "\n",
              "      <script>\n",
              "        const buttonEl =\n",
              "          document.querySelector('#df-a92da2c2-2cef-4622-909f-6a64235e3cfa button.colab-df-convert');\n",
              "        buttonEl.style.display =\n",
              "          google.colab.kernel.accessAllowed ? 'block' : 'none';\n",
              "\n",
              "        async function convertToInteractive(key) {\n",
              "          const element = document.querySelector('#df-a92da2c2-2cef-4622-909f-6a64235e3cfa');\n",
              "          const dataTable =\n",
              "            await google.colab.kernel.invokeFunction('convertToInteractive',\n",
              "                                                     [key], {});\n",
              "          if (!dataTable) return;\n",
              "\n",
              "          const docLinkHtml = 'Like what you see? Visit the ' +\n",
              "            '<a target=\"_blank\" href=https://colab.research.google.com/notebooks/data_table.ipynb>data table notebook</a>'\n",
              "            + ' to learn more about interactive tables.';\n",
              "          element.innerHTML = '';\n",
              "          dataTable['output_type'] = 'display_data';\n",
              "          await google.colab.output.renderOutput(dataTable, element);\n",
              "          const docLink = document.createElement('div');\n",
              "          docLink.innerHTML = docLinkHtml;\n",
              "          element.appendChild(docLink);\n",
              "        }\n",
              "      </script>\n",
              "    </div>\n",
              "  </div>\n",
              "  "
            ]
          },
          "metadata": {},
          "execution_count": 17
        }
      ]
    },
    {
      "cell_type": "code",
      "source": [
        "dataframe = pd.concat([training_x, training_y], axis=1)"
      ],
      "metadata": {
        "id": "4c-aYSSYtEkn"
      },
      "execution_count": null,
      "outputs": []
    },
    {
      "cell_type": "code",
      "source": [
        "dataframe"
      ],
      "metadata": {
        "colab": {
          "base_uri": "https://localhost:8080/",
          "height": 424
        },
        "id": "zEfcs7G7uJI_",
        "outputId": "730ed2c0-d553-452b-863e-b2a4f669e181"
      },
      "execution_count": null,
      "outputs": [
        {
          "output_type": "execute_result",
          "data": {
            "text/plain": [
              "          0       1        2        3        4        5  output\n",
              "0       156  5695.0   5698.0   5707.0   5988.0   6005.0       1\n",
              "1       141  4909.0   4911.0   4919.0   5071.0   5083.0       1\n",
              "2       142  4982.0   4987.0   4997.0   5142.0   5153.0       1\n",
              "3       176  4978.0   4980.0   4982.0   5146.0   5157.0       1\n",
              "4       172  5060.0   5063.0   5066.0   5226.0   5237.0       1\n",
              "...     ...     ...      ...      ...      ...      ...     ...\n",
              "322195   24  9999.0  10001.0  10003.0  12002.0  22001.0       0\n",
              "322196   29  9375.0   9377.0   9379.0  11254.0  11284.0       0\n",
              "322197   25     0.0      0.0      0.0      0.0      0.0       0\n",
              "322198   33     0.0      0.0      0.0      0.0      0.0       0\n",
              "322199   32  5001.0   5003.0   5009.0   5009.0   5012.0       0\n",
              "\n",
              "[322200 rows x 7 columns]"
            ],
            "text/html": [
              "\n",
              "  <div id=\"df-6f981a03-b658-40df-807a-8e4f4c7a672c\">\n",
              "    <div class=\"colab-df-container\">\n",
              "      <div>\n",
              "<style scoped>\n",
              "    .dataframe tbody tr th:only-of-type {\n",
              "        vertical-align: middle;\n",
              "    }\n",
              "\n",
              "    .dataframe tbody tr th {\n",
              "        vertical-align: top;\n",
              "    }\n",
              "\n",
              "    .dataframe thead th {\n",
              "        text-align: right;\n",
              "    }\n",
              "</style>\n",
              "<table border=\"1\" class=\"dataframe\">\n",
              "  <thead>\n",
              "    <tr style=\"text-align: right;\">\n",
              "      <th></th>\n",
              "      <th>0</th>\n",
              "      <th>1</th>\n",
              "      <th>2</th>\n",
              "      <th>3</th>\n",
              "      <th>4</th>\n",
              "      <th>5</th>\n",
              "      <th>output</th>\n",
              "    </tr>\n",
              "  </thead>\n",
              "  <tbody>\n",
              "    <tr>\n",
              "      <th>0</th>\n",
              "      <td>156</td>\n",
              "      <td>5695.0</td>\n",
              "      <td>5698.0</td>\n",
              "      <td>5707.0</td>\n",
              "      <td>5988.0</td>\n",
              "      <td>6005.0</td>\n",
              "      <td>1</td>\n",
              "    </tr>\n",
              "    <tr>\n",
              "      <th>1</th>\n",
              "      <td>141</td>\n",
              "      <td>4909.0</td>\n",
              "      <td>4911.0</td>\n",
              "      <td>4919.0</td>\n",
              "      <td>5071.0</td>\n",
              "      <td>5083.0</td>\n",
              "      <td>1</td>\n",
              "    </tr>\n",
              "    <tr>\n",
              "      <th>2</th>\n",
              "      <td>142</td>\n",
              "      <td>4982.0</td>\n",
              "      <td>4987.0</td>\n",
              "      <td>4997.0</td>\n",
              "      <td>5142.0</td>\n",
              "      <td>5153.0</td>\n",
              "      <td>1</td>\n",
              "    </tr>\n",
              "    <tr>\n",
              "      <th>3</th>\n",
              "      <td>176</td>\n",
              "      <td>4978.0</td>\n",
              "      <td>4980.0</td>\n",
              "      <td>4982.0</td>\n",
              "      <td>5146.0</td>\n",
              "      <td>5157.0</td>\n",
              "      <td>1</td>\n",
              "    </tr>\n",
              "    <tr>\n",
              "      <th>4</th>\n",
              "      <td>172</td>\n",
              "      <td>5060.0</td>\n",
              "      <td>5063.0</td>\n",
              "      <td>5066.0</td>\n",
              "      <td>5226.0</td>\n",
              "      <td>5237.0</td>\n",
              "      <td>1</td>\n",
              "    </tr>\n",
              "    <tr>\n",
              "      <th>...</th>\n",
              "      <td>...</td>\n",
              "      <td>...</td>\n",
              "      <td>...</td>\n",
              "      <td>...</td>\n",
              "      <td>...</td>\n",
              "      <td>...</td>\n",
              "      <td>...</td>\n",
              "    </tr>\n",
              "    <tr>\n",
              "      <th>322195</th>\n",
              "      <td>24</td>\n",
              "      <td>9999.0</td>\n",
              "      <td>10001.0</td>\n",
              "      <td>10003.0</td>\n",
              "      <td>12002.0</td>\n",
              "      <td>22001.0</td>\n",
              "      <td>0</td>\n",
              "    </tr>\n",
              "    <tr>\n",
              "      <th>322196</th>\n",
              "      <td>29</td>\n",
              "      <td>9375.0</td>\n",
              "      <td>9377.0</td>\n",
              "      <td>9379.0</td>\n",
              "      <td>11254.0</td>\n",
              "      <td>11284.0</td>\n",
              "      <td>0</td>\n",
              "    </tr>\n",
              "    <tr>\n",
              "      <th>322197</th>\n",
              "      <td>25</td>\n",
              "      <td>0.0</td>\n",
              "      <td>0.0</td>\n",
              "      <td>0.0</td>\n",
              "      <td>0.0</td>\n",
              "      <td>0.0</td>\n",
              "      <td>0</td>\n",
              "    </tr>\n",
              "    <tr>\n",
              "      <th>322198</th>\n",
              "      <td>33</td>\n",
              "      <td>0.0</td>\n",
              "      <td>0.0</td>\n",
              "      <td>0.0</td>\n",
              "      <td>0.0</td>\n",
              "      <td>0.0</td>\n",
              "      <td>0</td>\n",
              "    </tr>\n",
              "    <tr>\n",
              "      <th>322199</th>\n",
              "      <td>32</td>\n",
              "      <td>5001.0</td>\n",
              "      <td>5003.0</td>\n",
              "      <td>5009.0</td>\n",
              "      <td>5009.0</td>\n",
              "      <td>5012.0</td>\n",
              "      <td>0</td>\n",
              "    </tr>\n",
              "  </tbody>\n",
              "</table>\n",
              "<p>322200 rows × 7 columns</p>\n",
              "</div>\n",
              "      <button class=\"colab-df-convert\" onclick=\"convertToInteractive('df-6f981a03-b658-40df-807a-8e4f4c7a672c')\"\n",
              "              title=\"Convert this dataframe to an interactive table.\"\n",
              "              style=\"display:none;\">\n",
              "        \n",
              "  <svg xmlns=\"http://www.w3.org/2000/svg\" height=\"24px\"viewBox=\"0 0 24 24\"\n",
              "       width=\"24px\">\n",
              "    <path d=\"M0 0h24v24H0V0z\" fill=\"none\"/>\n",
              "    <path d=\"M18.56 5.44l.94 2.06.94-2.06 2.06-.94-2.06-.94-.94-2.06-.94 2.06-2.06.94zm-11 1L8.5 8.5l.94-2.06 2.06-.94-2.06-.94L8.5 2.5l-.94 2.06-2.06.94zm10 10l.94 2.06.94-2.06 2.06-.94-2.06-.94-.94-2.06-.94 2.06-2.06.94z\"/><path d=\"M17.41 7.96l-1.37-1.37c-.4-.4-.92-.59-1.43-.59-.52 0-1.04.2-1.43.59L10.3 9.45l-7.72 7.72c-.78.78-.78 2.05 0 2.83L4 21.41c.39.39.9.59 1.41.59.51 0 1.02-.2 1.41-.59l7.78-7.78 2.81-2.81c.8-.78.8-2.07 0-2.86zM5.41 20L4 18.59l7.72-7.72 1.47 1.35L5.41 20z\"/>\n",
              "  </svg>\n",
              "      </button>\n",
              "      \n",
              "  <style>\n",
              "    .colab-df-container {\n",
              "      display:flex;\n",
              "      flex-wrap:wrap;\n",
              "      gap: 12px;\n",
              "    }\n",
              "\n",
              "    .colab-df-convert {\n",
              "      background-color: #E8F0FE;\n",
              "      border: none;\n",
              "      border-radius: 50%;\n",
              "      cursor: pointer;\n",
              "      display: none;\n",
              "      fill: #1967D2;\n",
              "      height: 32px;\n",
              "      padding: 0 0 0 0;\n",
              "      width: 32px;\n",
              "    }\n",
              "\n",
              "    .colab-df-convert:hover {\n",
              "      background-color: #E2EBFA;\n",
              "      box-shadow: 0px 1px 2px rgba(60, 64, 67, 0.3), 0px 1px 3px 1px rgba(60, 64, 67, 0.15);\n",
              "      fill: #174EA6;\n",
              "    }\n",
              "\n",
              "    [theme=dark] .colab-df-convert {\n",
              "      background-color: #3B4455;\n",
              "      fill: #D2E3FC;\n",
              "    }\n",
              "\n",
              "    [theme=dark] .colab-df-convert:hover {\n",
              "      background-color: #434B5C;\n",
              "      box-shadow: 0px 1px 3px 1px rgba(0, 0, 0, 0.15);\n",
              "      filter: drop-shadow(0px 1px 2px rgba(0, 0, 0, 0.3));\n",
              "      fill: #FFFFFF;\n",
              "    }\n",
              "  </style>\n",
              "\n",
              "      <script>\n",
              "        const buttonEl =\n",
              "          document.querySelector('#df-6f981a03-b658-40df-807a-8e4f4c7a672c button.colab-df-convert');\n",
              "        buttonEl.style.display =\n",
              "          google.colab.kernel.accessAllowed ? 'block' : 'none';\n",
              "\n",
              "        async function convertToInteractive(key) {\n",
              "          const element = document.querySelector('#df-6f981a03-b658-40df-807a-8e4f4c7a672c');\n",
              "          const dataTable =\n",
              "            await google.colab.kernel.invokeFunction('convertToInteractive',\n",
              "                                                     [key], {});\n",
              "          if (!dataTable) return;\n",
              "\n",
              "          const docLinkHtml = 'Like what you see? Visit the ' +\n",
              "            '<a target=\"_blank\" href=https://colab.research.google.com/notebooks/data_table.ipynb>data table notebook</a>'\n",
              "            + ' to learn more about interactive tables.';\n",
              "          element.innerHTML = '';\n",
              "          dataTable['output_type'] = 'display_data';\n",
              "          await google.colab.output.renderOutput(dataTable, element);\n",
              "          const docLink = document.createElement('div');\n",
              "          docLink.innerHTML = docLinkHtml;\n",
              "          element.appendChild(docLink);\n",
              "        }\n",
              "      </script>\n",
              "    </div>\n",
              "  </div>\n",
              "  "
            ]
          },
          "metadata": {},
          "execution_count": 19
        }
      ]
    },
    {
      "cell_type": "code",
      "source": [
        "dataframe.info()"
      ],
      "metadata": {
        "colab": {
          "base_uri": "https://localhost:8080/"
        },
        "id": "igvVpbcYu0c0",
        "outputId": "f7c1bc7e-3e99-4634-8be9-2e5ca30492e6"
      },
      "execution_count": null,
      "outputs": [
        {
          "output_type": "stream",
          "name": "stdout",
          "text": [
            "<class 'pandas.core.frame.DataFrame'>\n",
            "RangeIndex: 322200 entries, 0 to 322199\n",
            "Data columns (total 7 columns):\n",
            " #   Column  Non-Null Count   Dtype \n",
            "---  ------  --------------   ----- \n",
            " 0   0       322200 non-null  object\n",
            " 1   1       322200 non-null  object\n",
            " 2   2       322200 non-null  object\n",
            " 3   3       322200 non-null  object\n",
            " 4   4       322200 non-null  object\n",
            " 5   5       322200 non-null  object\n",
            " 6   output  322200 non-null  int64 \n",
            "dtypes: int64(1), object(6)\n",
            "memory usage: 17.2+ MB\n"
          ]
        }
      ]
    },
    {
      "cell_type": "markdown",
      "source": [
        "# Various classification techniques"
      ],
      "metadata": {
        "id": "V-oQB09Hbhru"
      }
    },
    {
      "cell_type": "code",
      "source": [
        "accuracy={}"
      ],
      "metadata": {
        "id": "2IvfCU1uWwXy"
      },
      "execution_count": null,
      "outputs": []
    },
    {
      "cell_type": "code",
      "source": [
        "def get_Actual_values(nums):\n",
        "  total = len(nums) // no_of_ff\n",
        "\n",
        "  cur_row = 0\n",
        "  pred = []\n",
        "  for repeat in range(total):\n",
        "    is_trojan = False\n",
        "    for i in range(no_of_ff):\n",
        "      if (nums[cur_row] == 1):\n",
        "        is_trojan = True\n",
        "      cur_row += 1\n",
        "    if (is_trojan):\n",
        "      pred.append(1)\n",
        "    else:\n",
        "      pred.append(0)\n",
        "  \n",
        "  pred = np.array(pred)\n",
        "  return pred"
      ],
      "metadata": {
        "id": "ll6r_WZVNScc"
      },
      "execution_count": null,
      "outputs": []
    },
    {
      "cell_type": "markdown",
      "source": [
        "## Logistic Regression"
      ],
      "metadata": {
        "id": "h8PpXnIpbxyl"
      }
    },
    {
      "cell_type": "code",
      "source": [
        "from sklearn.linear_model import LogisticRegression\n",
        "LR = LogisticRegression()\n",
        "LR.fit(X_train, y_train_expanded) "
      ],
      "metadata": {
        "id": "SLxS_bTCc5v8",
        "colab": {
          "base_uri": "https://localhost:8080/"
        },
        "outputId": "5fd5366a-9f2e-4edf-9497-3a26a0cc4caf"
      },
      "execution_count": null,
      "outputs": [
        {
          "output_type": "execute_result",
          "data": {
            "text/plain": [
              "LogisticRegression()"
            ]
          },
          "metadata": {},
          "execution_count": 23
        }
      ]
    },
    {
      "cell_type": "code",
      "source": [
        "y_pred_expanded = LR.predict(X_test)\n",
        "y_pred = get_Actual_values(y_pred_expanded)"
      ],
      "metadata": {
        "id": "k8bxdY7Jc6fD"
      },
      "execution_count": null,
      "outputs": []
    },
    {
      "cell_type": "code",
      "source": [
        "print('Confusion Matrix') \n",
        "print(confusion_matrix(y_test, y_pred))\n",
        "# TN FP\n",
        "# FN TP\n",
        "# Positive - Trojan\n"
      ],
      "metadata": {
        "colab": {
          "base_uri": "https://localhost:8080/"
        },
        "id": "kP2dLJAXN3Fd",
        "outputId": "ab6ed8cb-b37a-433f-f41e-7502d177ec37"
      },
      "execution_count": null,
      "outputs": [
        {
          "output_type": "stream",
          "name": "stdout",
          "text": [
            "Confusion Matrix\n",
            "[[  0 200]\n",
            " [  0 400]]\n"
          ]
        }
      ]
    },
    {
      "cell_type": "markdown",
      "source": [
        "## Naive Bayes"
      ],
      "metadata": {
        "id": "kNzl-IpQb39b"
      }
    },
    {
      "cell_type": "code",
      "source": [
        "from sklearn.naive_bayes import GaussianNB\n",
        "NB = GaussianNB()\n",
        "NB.fit(X_train, y_train_expanded)"
      ],
      "metadata": {
        "id": "xysaCGlud3sL",
        "colab": {
          "base_uri": "https://localhost:8080/"
        },
        "outputId": "8ff24994-e5d4-49db-e636-498691081a22"
      },
      "execution_count": null,
      "outputs": [
        {
          "output_type": "execute_result",
          "data": {
            "text/plain": [
              "GaussianNB()"
            ]
          },
          "metadata": {},
          "execution_count": 26
        }
      ]
    },
    {
      "cell_type": "code",
      "source": [
        "y_pred_expanded = NB.predict(X_test)\n",
        "y_pred = get_Actual_values(y_pred_expanded)"
      ],
      "metadata": {
        "id": "AbhK6jHgekT7"
      },
      "execution_count": null,
      "outputs": []
    },
    {
      "cell_type": "code",
      "source": [
        "print('Confusion Matrix') \n",
        "print(confusion_matrix(y_test, y_pred))\n",
        "# TN FP\n",
        "# FN TP\n",
        "# Positive - Trojan"
      ],
      "metadata": {
        "colab": {
          "base_uri": "https://localhost:8080/"
        },
        "id": "kH88Q3FbWg4z",
        "outputId": "15c4bc2b-4859-4318-db96-704ef8421ba9"
      },
      "execution_count": null,
      "outputs": [
        {
          "output_type": "stream",
          "name": "stdout",
          "text": [
            "Confusion Matrix\n",
            "[[  0 200]\n",
            " [  0 400]]\n"
          ]
        }
      ]
    },
    {
      "cell_type": "markdown",
      "source": [
        "## Decision Tree"
      ],
      "metadata": {
        "id": "-dROk1X1b7AT"
      }
    },
    {
      "cell_type": "code",
      "source": [
        "from sklearn.tree import DecisionTreeClassifier\n",
        "dtc = DecisionTreeClassifier(criterion = 'entropy')\n",
        "dtc.fit(X_train, y_train_expanded)"
      ],
      "metadata": {
        "id": "JnrtOwQuelzU",
        "colab": {
          "base_uri": "https://localhost:8080/"
        },
        "outputId": "3f31449a-ab0a-414b-8b34-c77348fe1ad9"
      },
      "execution_count": null,
      "outputs": [
        {
          "output_type": "execute_result",
          "data": {
            "text/plain": [
              "DecisionTreeClassifier(criterion='entropy')"
            ]
          },
          "metadata": {},
          "execution_count": 29
        }
      ]
    },
    {
      "cell_type": "code",
      "source": [
        "y_pred_expanded = dtc.predict(X_test)\n",
        "y_pred = get_Actual_values(y_pred_expanded)"
      ],
      "metadata": {
        "id": "LH5o8RiJeqo8"
      },
      "execution_count": null,
      "outputs": []
    },
    {
      "cell_type": "code",
      "source": [
        "print('Confusion Matrix') \n",
        "print(confusion_matrix(y_test, y_pred))\n",
        "# TN FP\n",
        "# FN TP\n",
        "# Positive - Trojan"
      ],
      "metadata": {
        "colab": {
          "base_uri": "https://localhost:8080/"
        },
        "id": "ztNaAiP0Wlpb",
        "outputId": "5869e46e-c3cb-4d22-c12d-c9bb616aa628"
      },
      "execution_count": null,
      "outputs": [
        {
          "output_type": "stream",
          "name": "stdout",
          "text": [
            "Confusion Matrix\n",
            "[[  0 200]\n",
            " [  0 400]]\n"
          ]
        }
      ]
    },
    {
      "cell_type": "markdown",
      "source": [
        "## Random Forest"
      ],
      "metadata": {
        "id": "kufOJZhFb-6T"
      }
    },
    {
      "cell_type": "code",
      "source": [
        "from sklearn.ensemble import RandomForestClassifier\n",
        "rfc = RandomForestClassifier(n_estimators = 100, criterion = 'entropy')\n",
        "rfc.fit(X_train, y_train_expanded)"
      ],
      "metadata": {
        "id": "lw7oSxJFesoD",
        "colab": {
          "base_uri": "https://localhost:8080/"
        },
        "outputId": "b913e199-22e5-4dab-8217-43fb0a4b74d4"
      },
      "execution_count": null,
      "outputs": [
        {
          "output_type": "execute_result",
          "data": {
            "text/plain": [
              "RandomForestClassifier(criterion='entropy')"
            ]
          },
          "metadata": {},
          "execution_count": 32
        }
      ]
    },
    {
      "cell_type": "code",
      "source": [
        "y_pred_expanded = rfc.predict(X_test)\n",
        "y_pred = get_Actual_values(y_pred_expanded)"
      ],
      "metadata": {
        "id": "pUyRvwW-ew07"
      },
      "execution_count": null,
      "outputs": []
    },
    {
      "cell_type": "code",
      "source": [
        "print('Confusion Matrix') \n",
        "print(confusion_matrix(y_test, y_pred))\n",
        "# TN FP\n",
        "# FN TP\n",
        "# Positive - Trojan"
      ],
      "metadata": {
        "colab": {
          "base_uri": "https://localhost:8080/"
        },
        "id": "lBKtWlV9SwgT",
        "outputId": "95904eb9-f45d-45fd-dc4d-60893f1dd3dc"
      },
      "execution_count": null,
      "outputs": [
        {
          "output_type": "stream",
          "name": "stdout",
          "text": [
            "Confusion Matrix\n",
            "[[  0 200]\n",
            " [  0 400]]\n"
          ]
        }
      ]
    },
    {
      "cell_type": "markdown",
      "source": [
        "## ROC Curve"
      ],
      "metadata": {
        "id": "NZ5IBcvUWoqd"
      }
    },
    {
      "cell_type": "code",
      "source": [
        "step_factor = 0.005\n",
        "threshold_value = 0.01 \n",
        "roc_score=0\n",
        "predicted_proba = rfc.predict_proba(X_train) #probability of prediction\n",
        "while threshold_value <=0.8: #continue to check best threshold upto probability 0.8\n",
        "    temp_thresh = threshold_value\n",
        "    predicted = (predicted_proba [:,1] >= temp_thresh).astype('int') #change the class boundary for prediction\n",
        "    print('Threshold',temp_thresh,'--',roc_auc_score(y_train_expanded, predicted))\n",
        "    if roc_score<roc_auc_score(y_train_expanded, predicted): #store the threshold for best classification\n",
        "        roc_score = roc_auc_score(y_train_expanded, predicted)\n",
        "        thrsh_score = threshold_value\n",
        "    threshold_value = threshold_value + step_factor\n",
        "print('---Optimum Threshold ---',thrsh_score,'--ROC--',roc_score)"
      ],
      "metadata": {
        "colab": {
          "base_uri": "https://localhost:8080/"
        },
        "id": "uL2L1bV7Wqs0",
        "outputId": "fce59812-5b71-462f-fbc7-2f3d3d7faf28"
      },
      "execution_count": null,
      "outputs": [
        {
          "output_type": "stream",
          "name": "stdout",
          "text": [
            "Threshold 0.01 -- 0.5\n",
            "Threshold 0.015 -- 0.5\n",
            "Threshold 0.02 -- 0.5\n",
            "Threshold 0.025 -- 0.5\n",
            "Threshold 0.030000000000000002 -- 0.5\n",
            "Threshold 0.035 -- 0.5\n",
            "Threshold 0.04 -- 0.5\n",
            "Threshold 0.045 -- 0.5\n",
            "Threshold 0.049999999999999996 -- 0.5\n",
            "Threshold 0.05499999999999999 -- 0.5\n",
            "Threshold 0.05999999999999999 -- 0.5\n",
            "Threshold 0.06499999999999999 -- 0.5\n",
            "Threshold 0.06999999999999999 -- 0.5\n",
            "Threshold 0.075 -- 0.5\n",
            "Threshold 0.08 -- 0.5\n",
            "Threshold 0.085 -- 0.5\n",
            "Threshold 0.09000000000000001 -- 0.5\n",
            "Threshold 0.09500000000000001 -- 0.5\n",
            "Threshold 0.10000000000000002 -- 0.5\n",
            "Threshold 0.10500000000000002 -- 0.5\n",
            "Threshold 0.11000000000000003 -- 0.5\n",
            "Threshold 0.11500000000000003 -- 0.5\n",
            "Threshold 0.12000000000000004 -- 0.5\n",
            "Threshold 0.12500000000000003 -- 0.5\n",
            "Threshold 0.13000000000000003 -- 0.5\n",
            "Threshold 0.13500000000000004 -- 0.5\n",
            "Threshold 0.14000000000000004 -- 0.5\n",
            "Threshold 0.14500000000000005 -- 0.5\n",
            "Threshold 0.15000000000000005 -- 0.5\n",
            "Threshold 0.15500000000000005 -- 0.5\n",
            "Threshold 0.16000000000000006 -- 0.5\n",
            "Threshold 0.16500000000000006 -- 0.5\n",
            "Threshold 0.17000000000000007 -- 0.5\n",
            "Threshold 0.17500000000000007 -- 0.5\n",
            "Threshold 0.18000000000000008 -- 0.5\n",
            "Threshold 0.18500000000000008 -- 0.5\n",
            "Threshold 0.19000000000000009 -- 0.5\n",
            "Threshold 0.1950000000000001 -- 0.5\n",
            "Threshold 0.2000000000000001 -- 0.5\n",
            "Threshold 0.2050000000000001 -- 0.5\n",
            "Threshold 0.2100000000000001 -- 0.5\n",
            "Threshold 0.2150000000000001 -- 0.5\n",
            "Threshold 0.2200000000000001 -- 0.5\n",
            "Threshold 0.22500000000000012 -- 0.5\n",
            "Threshold 0.23000000000000012 -- 0.5\n",
            "Threshold 0.23500000000000013 -- 0.5\n",
            "Threshold 0.24000000000000013 -- 0.5\n",
            "Threshold 0.24500000000000013 -- 0.5\n",
            "Threshold 0.2500000000000001 -- 0.5\n",
            "Threshold 0.2550000000000001 -- 0.5\n",
            "Threshold 0.2600000000000001 -- 0.5\n",
            "Threshold 0.2650000000000001 -- 0.5\n",
            "Threshold 0.27000000000000013 -- 0.5\n",
            "Threshold 0.27500000000000013 -- 0.5\n",
            "Threshold 0.28000000000000014 -- 0.5\n",
            "Threshold 0.28500000000000014 -- 0.5\n",
            "Threshold 0.29000000000000015 -- 0.5\n",
            "Threshold 0.29500000000000015 -- 0.5\n",
            "Threshold 0.30000000000000016 -- 0.5\n",
            "Threshold 0.30500000000000016 -- 0.5\n",
            "Threshold 0.31000000000000016 -- 0.5\n",
            "Threshold 0.31500000000000017 -- 0.5\n",
            "Threshold 0.3200000000000002 -- 0.5\n",
            "Threshold 0.3250000000000002 -- 0.5\n",
            "Threshold 0.3300000000000002 -- 0.5\n",
            "Threshold 0.3350000000000002 -- 0.5\n",
            "Threshold 0.3400000000000002 -- 0.5000006983240223\n",
            "Threshold 0.3450000000000002 -- 0.5000013966480448\n",
            "Threshold 0.3500000000000002 -- 0.5000027932960894\n",
            "Threshold 0.3550000000000002 -- 0.5000034916201117\n",
            "Threshold 0.3600000000000002 -- 0.5000041899441341\n",
            "Threshold 0.3650000000000002 -- 0.5000048882681564\n",
            "Threshold 0.3700000000000002 -- 0.5000069832402235\n",
            "Threshold 0.3750000000000002 -- 0.5000097765363128\n",
            "Threshold 0.3800000000000002 -- 0.5000153631284916\n",
            "Threshold 0.38500000000000023 -- 0.5000251396648044\n",
            "Threshold 0.39000000000000024 -- 0.5000453910614525\n",
            "Threshold 0.39500000000000024 -- 0.5000754189944134\n",
            "Threshold 0.40000000000000024 -- 0.5001089385474861\n",
            "Threshold 0.40500000000000025 -- 0.5001627094972066\n",
            "Threshold 0.41000000000000025 -- 0.5002416201117319\n",
            "Threshold 0.41500000000000026 -- 0.5003477653631285\n",
            "Threshold 0.42000000000000026 -- 0.5004965083798883\n",
            "Threshold 0.42500000000000027 -- 0.5006969273743017\n",
            "Threshold 0.43000000000000027 -- 0.5009378491620111\n",
            "Threshold 0.4350000000000003 -- 0.5012723463687151\n",
            "Threshold 0.4400000000000003 -- 0.5016829608938547\n",
            "Threshold 0.4450000000000003 -- 0.5021780726256982\n",
            "Threshold 0.4500000000000003 -- 0.5028442737430168\n",
            "Threshold 0.4550000000000003 -- 0.5036361731843576\n",
            "Threshold 0.4600000000000003 -- 0.5046019553072626\n",
            "Threshold 0.4650000000000003 -- 0.5057388268156425\n",
            "Threshold 0.4700000000000003 -- 0.5070391061452514\n",
            "Threshold 0.4750000000000003 -- 0.5085949720670391\n",
            "Threshold 0.4800000000000003 -- 0.5102430167597765\n",
            "Threshold 0.4850000000000003 -- 0.5120789106145252\n",
            "Threshold 0.4900000000000003 -- 0.5141222067039106\n",
            "Threshold 0.49500000000000033 -- 0.5162583798882682\n",
            "Threshold 0.5000000000000003 -- 0.5185146648044693\n",
            "Threshold 0.5050000000000003 -- 0.5208393854748604\n",
            "Threshold 0.5100000000000003 -- 0.5231606145251397\n",
            "Threshold 0.5150000000000003 -- 0.5255335195530726\n",
            "Threshold 0.5200000000000004 -- 0.5278638268156425\n",
            "Threshold 0.5250000000000004 -- 0.530076815642458\n",
            "Threshold 0.5300000000000004 -- 0.5322779329608938\n",
            "Threshold 0.5350000000000004 -- 0.5342297486033519\n",
            "Threshold 0.5400000000000004 -- 0.5360977653631285\n",
            "Threshold 0.5450000000000004 -- 0.537695530726257\n",
            "Threshold 0.5500000000000004 -- 0.5391564245810055\n",
            "Threshold 0.5550000000000004 -- 0.5403826815642458\n",
            "Threshold 0.5600000000000004 -- 0.5414057262569832\n",
            "Threshold 0.5650000000000004 -- 0.5422416201117318\n",
            "Threshold 0.5700000000000004 -- 0.5428282122905028\n",
            "Threshold 0.5750000000000004 -- 0.5433121508379888\n",
            "Threshold 0.5800000000000004 -- 0.5436948324022346\n",
            "Threshold 0.5850000000000004 -- 0.5439734636871508\n",
            "Threshold 0.5900000000000004 -- 0.5441396648044692\n",
            "Threshold 0.5950000000000004 -- 0.544209497206704\n",
            "Threshold 0.6000000000000004 -- 0.5442849162011173\n",
            "Threshold 0.6050000000000004 -- 0.5442946927374301\n",
            "Threshold 0.6100000000000004 -- 0.5443100558659218\n",
            "Threshold 0.6150000000000004 -- 0.5442744413407821\n",
            "Threshold 0.6200000000000004 -- 0.5442653631284917\n",
            "Threshold 0.6250000000000004 -- 0.5442164804469274\n",
            "Threshold 0.6300000000000004 -- 0.5441899441340782\n",
            "Threshold 0.6350000000000005 -- 0.5441550279329609\n",
            "Threshold 0.6400000000000005 -- 0.5440810055865922\n",
            "Threshold 0.6450000000000005 -- 0.5440293296089385\n",
            "Threshold 0.6500000000000005 -- 0.5439392458100559\n",
            "Threshold 0.6550000000000005 -- 0.5438303072625699\n",
            "Threshold 0.6600000000000005 -- 0.5437534916201117\n",
            "Threshold 0.6650000000000005 -- 0.5436843575418995\n",
            "Threshold 0.6700000000000005 -- 0.5436152234636871\n",
            "Threshold 0.6750000000000005 -- 0.5435621508379889\n",
            "Threshold 0.6800000000000005 -- 0.5434972067039107\n",
            "Threshold 0.6850000000000005 -- 0.5434315642458101\n",
            "Threshold 0.6900000000000005 -- 0.5433638268156424\n",
            "Threshold 0.6950000000000005 -- 0.5433191340782122\n",
            "Threshold 0.7000000000000005 -- 0.5432716480446927\n",
            "Threshold 0.7050000000000005 -- 0.5432283519553073\n",
            "Threshold 0.7100000000000005 -- 0.5432018156424582\n",
            "Threshold 0.7150000000000005 -- 0.5431759776536312\n",
            "Threshold 0.7200000000000005 -- 0.5431550279329609\n",
            "Threshold 0.7250000000000005 -- 0.5431089385474861\n",
            "Threshold 0.7300000000000005 -- 0.5430579608938548\n",
            "Threshold 0.7350000000000005 -- 0.5430230446927374\n",
            "Threshold 0.7400000000000005 -- 0.5429678770949721\n",
            "Threshold 0.7450000000000006 -- 0.5429029329608939\n",
            "Threshold 0.7500000000000006 -- 0.5428079608938547\n",
            "Threshold 0.7550000000000006 -- 0.5426913407821229\n",
            "Threshold 0.7600000000000006 -- 0.5425418994413408\n",
            "Threshold 0.7650000000000006 -- 0.5423694134078212\n",
            "Threshold 0.7700000000000006 -- 0.5421689944134078\n",
            "Threshold 0.7750000000000006 -- 0.541911312849162\n",
            "Threshold 0.7800000000000006 -- 0.5415831005586592\n",
            "Threshold 0.7850000000000006 -- 0.5411340782122904\n",
            "Threshold 0.7900000000000006 -- 0.5405844972067039\n",
            "Threshold 0.7950000000000006 -- 0.5399650837988826\n",
            "---Optimum Threshold --- 0.6100000000000004 --ROC-- 0.5443100558659218\n"
          ]
        }
      ]
    },
    {
      "cell_type": "code",
      "source": [
        "y_pred_expanded_proba = rfc.predict_proba(X_test)"
      ],
      "metadata": {
        "id": "UyR2QMG2Ylp-"
      },
      "execution_count": null,
      "outputs": []
    },
    {
      "cell_type": "code",
      "source": [
        "y_pred_expanded = []\n",
        "for i in y_pred_expanded_proba:\n",
        "  if (i[1] >= thrsh_score):\n",
        "    y_pred_expanded.append(1)\n",
        "  else:\n",
        "    y_pred_expanded.append(0)"
      ],
      "metadata": {
        "id": "4lS2zwacY4FR"
      },
      "execution_count": null,
      "outputs": []
    },
    {
      "cell_type": "code",
      "source": [
        "y_pred_expanded = np.array(y_pred_expanded)\n",
        "y_pred = get_Actual_values(y_pred_expanded)"
      ],
      "metadata": {
        "id": "69pnZqk2Y-ka"
      },
      "execution_count": null,
      "outputs": []
    },
    {
      "cell_type": "code",
      "source": [
        "print('Confusion Matrix') \n",
        "print(confusion_matrix(y_test, y_pred))\n",
        "# TN FP\n",
        "# FN TP\n",
        "# Positive - Trojan"
      ],
      "metadata": {
        "colab": {
          "base_uri": "https://localhost:8080/"
        },
        "id": "V1_2uUvEZTvL",
        "outputId": "76754854-b371-4398-a5ac-10a0bd5a88fe"
      },
      "execution_count": null,
      "outputs": [
        {
          "output_type": "stream",
          "name": "stdout",
          "text": [
            "Confusion Matrix\n",
            "[[  0 200]\n",
            " [ 50 350]]\n"
          ]
        }
      ]
    },
    {
      "cell_type": "markdown",
      "source": [
        "# XGBOOST"
      ],
      "metadata": {
        "id": "_wLSI4OJRHpg"
      }
    },
    {
      "cell_type": "code",
      "source": [
        "!pip install xgboost"
      ],
      "metadata": {
        "colab": {
          "base_uri": "https://localhost:8080/"
        },
        "id": "XF-8nzVTRI64",
        "outputId": "553a3baa-cca6-4817-c58d-10b3c0febcda"
      },
      "execution_count": null,
      "outputs": [
        {
          "output_type": "stream",
          "name": "stdout",
          "text": [
            "Requirement already satisfied: xgboost in /usr/local/lib/python3.7/dist-packages (0.90)\n",
            "Requirement already satisfied: numpy in /usr/local/lib/python3.7/dist-packages (from xgboost) (1.21.6)\n",
            "Requirement already satisfied: scipy in /usr/local/lib/python3.7/dist-packages (from xgboost) (1.4.1)\n"
          ]
        }
      ]
    },
    {
      "cell_type": "code",
      "source": [
        "from xgboost import XGBClassifier\n",
        "classifier_boost = XGBClassifier(n_estimators=100)\n",
        "classifier_boost.fit(X_train, y_train_expanded)"
      ],
      "metadata": {
        "colab": {
          "base_uri": "https://localhost:8080/"
        },
        "id": "m_LxIiKoTQzI",
        "outputId": "0456f010-6a63-407e-f9b2-f0f1c5911c5a"
      },
      "execution_count": null,
      "outputs": [
        {
          "output_type": "execute_result",
          "data": {
            "text/plain": [
              "XGBClassifier()"
            ]
          },
          "metadata": {},
          "execution_count": 41
        }
      ]
    },
    {
      "cell_type": "code",
      "source": [
        "step_factor = 0.005\n",
        "threshold_value = 0.01 \n",
        "roc_score=0\n",
        "predicted_proba = classifier_boost.predict_proba(X_train) #probability of prediction\n",
        "while threshold_value <=0.8: #continue to check best threshold upto probability 0.8\n",
        "    temp_thresh = threshold_value\n",
        "    predicted = (predicted_proba [:,1] >= temp_thresh).astype('int') #change the class boundary for prediction\n",
        "    print('Threshold',temp_thresh,'--',roc_auc_score(y_train_expanded, predicted))\n",
        "    if roc_score<roc_auc_score(y_train_expanded, predicted): #store the threshold for best classification\n",
        "        roc_score = roc_auc_score(y_train_expanded, predicted)\n",
        "        thrsh_score = threshold_value\n",
        "    threshold_value = threshold_value + step_factor\n",
        "print('---Optimum Threshold ---',thrsh_score,'--ROC--',roc_score)"
      ],
      "metadata": {
        "colab": {
          "base_uri": "https://localhost:8080/"
        },
        "id": "xE37hG-ekZ_4",
        "outputId": "10cf50e8-1ed7-419c-aafa-3f152088404b"
      },
      "execution_count": null,
      "outputs": [
        {
          "output_type": "stream",
          "name": "stdout",
          "text": [
            "Threshold 0.01 -- 0.5\n",
            "Threshold 0.015 -- 0.5\n",
            "Threshold 0.02 -- 0.5\n",
            "Threshold 0.025 -- 0.5\n",
            "Threshold 0.030000000000000002 -- 0.5\n",
            "Threshold 0.035 -- 0.5\n",
            "Threshold 0.04 -- 0.5\n",
            "Threshold 0.045 -- 0.5\n",
            "Threshold 0.049999999999999996 -- 0.5\n",
            "Threshold 0.05499999999999999 -- 0.5\n",
            "Threshold 0.05999999999999999 -- 0.5\n",
            "Threshold 0.06499999999999999 -- 0.5\n",
            "Threshold 0.06999999999999999 -- 0.5\n",
            "Threshold 0.075 -- 0.5\n",
            "Threshold 0.08 -- 0.5\n",
            "Threshold 0.085 -- 0.5\n",
            "Threshold 0.09000000000000001 -- 0.5\n",
            "Threshold 0.09500000000000001 -- 0.5\n",
            "Threshold 0.10000000000000002 -- 0.5\n",
            "Threshold 0.10500000000000002 -- 0.5\n",
            "Threshold 0.11000000000000003 -- 0.5\n",
            "Threshold 0.11500000000000003 -- 0.5\n",
            "Threshold 0.12000000000000004 -- 0.5\n",
            "Threshold 0.12500000000000003 -- 0.5\n",
            "Threshold 0.13000000000000003 -- 0.5\n",
            "Threshold 0.13500000000000004 -- 0.5\n",
            "Threshold 0.14000000000000004 -- 0.5\n",
            "Threshold 0.14500000000000005 -- 0.5\n",
            "Threshold 0.15000000000000005 -- 0.5\n",
            "Threshold 0.15500000000000005 -- 0.5\n",
            "Threshold 0.16000000000000006 -- 0.5\n",
            "Threshold 0.16500000000000006 -- 0.5\n",
            "Threshold 0.17000000000000007 -- 0.5\n",
            "Threshold 0.17500000000000007 -- 0.5\n",
            "Threshold 0.18000000000000008 -- 0.5\n",
            "Threshold 0.18500000000000008 -- 0.5\n",
            "Threshold 0.19000000000000009 -- 0.5\n",
            "Threshold 0.1950000000000001 -- 0.5\n",
            "Threshold 0.2000000000000001 -- 0.5\n",
            "Threshold 0.2050000000000001 -- 0.5\n",
            "Threshold 0.2100000000000001 -- 0.5\n",
            "Threshold 0.2150000000000001 -- 0.5\n",
            "Threshold 0.2200000000000001 -- 0.5\n",
            "Threshold 0.22500000000000012 -- 0.5\n",
            "Threshold 0.23000000000000012 -- 0.5\n",
            "Threshold 0.23500000000000013 -- 0.5\n",
            "Threshold 0.24000000000000013 -- 0.5\n",
            "Threshold 0.24500000000000013 -- 0.5\n",
            "Threshold 0.2500000000000001 -- 0.5\n",
            "Threshold 0.2550000000000001 -- 0.5\n",
            "Threshold 0.2600000000000001 -- 0.5\n",
            "Threshold 0.2650000000000001 -- 0.5\n",
            "Threshold 0.27000000000000013 -- 0.5\n",
            "Threshold 0.27500000000000013 -- 0.5\n",
            "Threshold 0.28000000000000014 -- 0.5\n",
            "Threshold 0.28500000000000014 -- 0.5\n",
            "Threshold 0.29000000000000015 -- 0.5\n",
            "Threshold 0.29500000000000015 -- 0.5\n",
            "Threshold 0.30000000000000016 -- 0.5\n",
            "Threshold 0.30500000000000016 -- 0.5\n",
            "Threshold 0.31000000000000016 -- 0.5\n",
            "Threshold 0.31500000000000017 -- 0.5\n",
            "Threshold 0.3200000000000002 -- 0.5\n",
            "Threshold 0.3250000000000002 -- 0.5\n",
            "Threshold 0.3300000000000002 -- 0.5\n",
            "Threshold 0.3350000000000002 -- 0.5\n",
            "Threshold 0.3400000000000002 -- 0.5\n",
            "Threshold 0.3450000000000002 -- 0.5\n",
            "Threshold 0.3500000000000002 -- 0.5\n",
            "Threshold 0.3550000000000002 -- 0.5\n",
            "Threshold 0.3600000000000002 -- 0.5\n",
            "Threshold 0.3650000000000002 -- 0.5\n",
            "Threshold 0.3700000000000002 -- 0.5\n",
            "Threshold 0.3750000000000002 -- 0.5\n",
            "Threshold 0.3800000000000002 -- 0.5\n",
            "Threshold 0.38500000000000023 -- 0.5\n",
            "Threshold 0.39000000000000024 -- 0.5\n",
            "Threshold 0.39500000000000024 -- 0.5\n",
            "Threshold 0.40000000000000024 -- 0.5\n",
            "Threshold 0.40500000000000025 -- 0.5\n",
            "Threshold 0.41000000000000025 -- 0.5\n",
            "Threshold 0.41500000000000026 -- 0.5\n",
            "Threshold 0.42000000000000026 -- 0.5\n",
            "Threshold 0.42500000000000027 -- 0.5\n",
            "Threshold 0.43000000000000027 -- 0.5\n",
            "Threshold 0.4350000000000003 -- 0.5\n",
            "Threshold 0.4400000000000003 -- 0.5\n",
            "Threshold 0.4450000000000003 -- 0.5\n",
            "Threshold 0.4500000000000003 -- 0.5\n",
            "Threshold 0.4550000000000003 -- 0.5\n",
            "Threshold 0.4600000000000003 -- 0.5\n",
            "Threshold 0.4650000000000003 -- 0.5\n",
            "Threshold 0.4700000000000003 -- 0.5\n",
            "Threshold 0.4750000000000003 -- 0.5\n",
            "Threshold 0.4800000000000003 -- 0.5\n",
            "Threshold 0.4850000000000003 -- 0.5\n",
            "Threshold 0.4900000000000003 -- 0.5\n",
            "Threshold 0.49500000000000033 -- 0.5\n",
            "Threshold 0.5000000000000003 -- 0.5\n",
            "Threshold 0.5050000000000003 -- 0.5\n",
            "Threshold 0.5100000000000003 -- 0.5\n",
            "Threshold 0.5150000000000003 -- 0.5\n",
            "Threshold 0.5200000000000004 -- 0.5\n",
            "Threshold 0.5250000000000004 -- 0.5\n",
            "Threshold 0.5300000000000004 -- 0.5000328212290502\n",
            "Threshold 0.5350000000000004 -- 0.5000516759776537\n",
            "Threshold 0.5400000000000004 -- 0.5001368715083799\n",
            "Threshold 0.5450000000000004 -- 0.500731843575419\n",
            "Threshold 0.5500000000000004 -- 0.5020223463687151\n",
            "Threshold 0.5550000000000004 -- 0.5044238826815642\n",
            "Threshold 0.5600000000000004 -- 0.5029685754189944\n",
            "Threshold 0.5650000000000004 -- 0.5018205307262569\n",
            "Threshold 0.5700000000000004 -- 0.5012234636871509\n",
            "Threshold 0.5750000000000004 -- 0.5008456703910614\n",
            "Threshold 0.5800000000000004 -- 0.5005865921787709\n",
            "Threshold 0.5850000000000004 -- 0.5003694134078213\n",
            "Threshold 0.5900000000000004 -- 0.5002583798882682\n",
            "Threshold 0.5950000000000004 -- 0.5002451117318436\n",
            "Threshold 0.6000000000000004 -- 0.5002171787709497\n",
            "Threshold 0.6050000000000004 -- 0.500211592178771\n",
            "Threshold 0.6100000000000004 -- 0.5001675977653631\n",
            "Threshold 0.6150000000000004 -- 0.5001675977653631\n",
            "Threshold 0.6200000000000004 -- 0.5001675977653631\n",
            "Threshold 0.6250000000000004 -- 0.5001564245810056\n",
            "Threshold 0.6300000000000004 -- 0.5001480446927374\n",
            "Threshold 0.6350000000000005 -- 0.5001326815642458\n",
            "Threshold 0.6400000000000005 -- 0.5001159217877096\n",
            "Threshold 0.6450000000000005 -- 0.5001110335195531\n",
            "Threshold 0.6500000000000005 -- 0.5000942737430167\n",
            "Threshold 0.6550000000000005 -- 0.5000775139664805\n",
            "Threshold 0.6600000000000005 -- 0.5000719273743017\n",
            "Threshold 0.6650000000000005 -- 0.5000579608938548\n",
            "Threshold 0.6700000000000005 -- 0.5000579608938548\n",
            "Threshold 0.6750000000000005 -- 0.5000579608938548\n",
            "Threshold 0.6800000000000005 -- 0.5000446927374301\n",
            "Threshold 0.6850000000000005 -- 0.5000335195530726\n",
            "Threshold 0.6900000000000005 -- 0.5000279329608939\n",
            "Threshold 0.6950000000000005 -- 0.5000279329608939\n",
            "Threshold 0.7000000000000005 -- 0.5000167597765364\n",
            "Threshold 0.7050000000000005 -- 0.5\n",
            "Threshold 0.7100000000000005 -- 0.5\n",
            "Threshold 0.7150000000000005 -- 0.5\n",
            "Threshold 0.7200000000000005 -- 0.5\n",
            "Threshold 0.7250000000000005 -- 0.5\n",
            "Threshold 0.7300000000000005 -- 0.5\n",
            "Threshold 0.7350000000000005 -- 0.5\n",
            "Threshold 0.7400000000000005 -- 0.5\n",
            "Threshold 0.7450000000000006 -- 0.5\n",
            "Threshold 0.7500000000000006 -- 0.5\n",
            "Threshold 0.7550000000000006 -- 0.5\n",
            "Threshold 0.7600000000000006 -- 0.5\n",
            "Threshold 0.7650000000000006 -- 0.5\n",
            "Threshold 0.7700000000000006 -- 0.5\n",
            "Threshold 0.7750000000000006 -- 0.5\n",
            "Threshold 0.7800000000000006 -- 0.5\n",
            "Threshold 0.7850000000000006 -- 0.5\n",
            "Threshold 0.7900000000000006 -- 0.5\n",
            "Threshold 0.7950000000000006 -- 0.5\n",
            "---Optimum Threshold --- 0.5550000000000004 --ROC-- 0.5044238826815642\n"
          ]
        }
      ]
    },
    {
      "cell_type": "code",
      "source": [
        "y_pred_expanded_proba = rfc.predict_proba(X_test)"
      ],
      "metadata": {
        "id": "ZBJXZYTzkjrW"
      },
      "execution_count": null,
      "outputs": []
    },
    {
      "cell_type": "code",
      "source": [
        "y_pred_expanded = []\n",
        "for i in y_pred_expanded_proba:\n",
        "  if (i[1] >= thrsh_score):\n",
        "    y_pred_expanded.append(1)\n",
        "  else:\n",
        "    y_pred_expanded.append(0)"
      ],
      "metadata": {
        "id": "GuojZr2Qks2c"
      },
      "execution_count": null,
      "outputs": []
    },
    {
      "cell_type": "code",
      "source": [
        "y_pred_expanded = np.array(y_pred_expanded)\n",
        "y_pred = get_Actual_values(y_pred_expanded)"
      ],
      "metadata": {
        "id": "ub2QKg5NkvQP"
      },
      "execution_count": null,
      "outputs": []
    },
    {
      "cell_type": "code",
      "source": [
        "print('Confusion Matrix') \n",
        "print(confusion_matrix(y_test, y_pred))\n",
        "# TN FP\n",
        "# FN TP\n",
        "# Positive - Trojan"
      ],
      "metadata": {
        "colab": {
          "base_uri": "https://localhost:8080/"
        },
        "id": "BZUJKj1OkxDH",
        "outputId": "823afcfb-87a0-4f95-fe9f-34a95d4c485f"
      },
      "execution_count": null,
      "outputs": [
        {
          "output_type": "stream",
          "name": "stdout",
          "text": [
            "Confusion Matrix\n",
            "[[  0 200]\n",
            " [  0 400]]\n"
          ]
        }
      ]
    },
    {
      "cell_type": "markdown",
      "source": [
        "# SVM "
      ],
      "metadata": {
        "id": "WuNQDzK4TgaY"
      }
    },
    {
      "cell_type": "code",
      "source": [
        "from sklearn.svm import SVC\n",
        "from sklearn.pipeline import make_pipeline\n",
        "from sklearn.preprocessing import StandardScaler\n",
        "svclassifier = make_pipeline(StandardScaler(), SVC(kernel='rbf'))\n",
        "svclassifier.fit(X_train, y_train_expanded)"
      ],
      "metadata": {
        "id": "7C84r5pETjea"
      },
      "execution_count": null,
      "outputs": []
    },
    {
      "cell_type": "code",
      "source": [
        "y_pred_expanded = svclassifier.predict(X_test)\n",
        "y_pred = get_Actual_values(y_pred_expanded)"
      ],
      "metadata": {
        "id": "9zVXEFdB3F3z"
      },
      "execution_count": null,
      "outputs": []
    }
  ]
}